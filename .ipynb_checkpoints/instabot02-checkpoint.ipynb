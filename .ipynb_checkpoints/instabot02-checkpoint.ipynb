{
 "cells": [
  {
   "cell_type": "markdown",
   "id": "b59d5482",
   "metadata": {},
   "source": [
    "# InstaBot - Part 2"
   ]
  },
  {
   "cell_type": "markdown",
   "id": "51264f91",
   "metadata": {},
   "source": [
    "## Importing webdriver, BeautifulSoup and waits"
   ]
  },
  {
   "cell_type": "code",
   "execution_count": 1,
   "id": "555788e5",
   "metadata": {
    "scrolled": true
   },
   "outputs": [
    {
     "name": "stderr",
     "output_type": "stream",
     "text": [
      "/var/folders/cv/21r7d42s15gbdl09rp_ps93w0000gn/T/ipykernel_59136/3564868453.py:2: DeprecationWarning: executable_path has been deprecated, please pass in a Service object\n",
      "  driver=webdriver.Chrome(executable_path='/Users/chetansharma/Downloads/chromedriver')\n"
     ]
    }
   ],
   "source": [
    "from selenium import webdriver\n",
    "driver=webdriver.Chrome(executable_path='/Users/chetansharma/Downloads/chromedriver')\n",
    "from bs4 import BeautifulSoup\n",
    "from selenium.webdriver.support.ui import WebDriverWait\n",
    "from selenium.webdriver.support import expected_conditions as EC\n",
    "from selenium.webdriver.common.by import By"
   ]
  },
  {
   "cell_type": "markdown",
   "id": "d4acd874",
   "metadata": {},
   "source": [
    "## Login"
   ]
  },
  {
   "cell_type": "code",
   "execution_count": 2,
   "id": "2aef172c",
   "metadata": {},
   "outputs": [],
   "source": [
    "# Getting to instagram\n",
    "driver.get('https://www.instagram.com/')"
   ]
  },
  {
   "cell_type": "code",
   "execution_count": null,
   "id": "3efb6ae1",
   "metadata": {},
   "outputs": [],
   "source": [
    "#Login\n",
    "driver.find_element_by_name('username').send_keys('sample_username')\n",
    "driver.find_element_by_name('password').send_keys('sample_password')\n",
    "driver.find_element_by_xpath('//form[@id=\"loginForm\"]//div//div[3]//button[1]').click()"
   ]
  },
  {
   "cell_type": "markdown",
   "id": "53e2b3bf",
   "metadata": {},
   "source": [
    "## QUESTION 1 : BLOGGER HABIT ANALYSIS"
   ]
  },
  {
   "cell_type": "markdown",
   "id": "491afca1",
   "metadata": {},
   "source": [
    "### (1) From the list of instagram handles you obtained when you searched ‘food’ in previous project. Open the first 10 handles and find the top 5 which have the highest number of followers"
   ]
  },
  {
   "cell_type": "markdown",
   "id": "48777196",
   "metadata": {},
   "source": [
    "### Let's search food and get number of followers of first 10 handles"
   ]
  },
  {
   "cell_type": "code",
   "execution_count": 27,
   "id": "5006a939",
   "metadata": {},
   "outputs": [],
   "source": [
    "import time"
   ]
  },
  {
   "cell_type": "code",
   "execution_count": 41,
   "id": "c403c0a5",
   "metadata": {},
   "outputs": [],
   "source": [
    "wait=WebDriverWait(driver,20)"
   ]
  },
  {
   "cell_type": "code",
   "execution_count": 60,
   "id": "069548e0",
   "metadata": {},
   "outputs": [
    {
     "name": "stderr",
     "output_type": "stream",
     "text": [
      "/var/folders/cv/21r7d42s15gbdl09rp_ps93w0000gn/T/ipykernel_57608/1213147623.py:5: DeprecationWarning: find_element_by_* commands are deprecated. Please use find_element() instead\n",
      "  search_bar=driver.find_element_by_class_name('XTCLo')\n",
      "/var/folders/cv/21r7d42s15gbdl09rp_ps93w0000gn/T/ipykernel_57608/1213147623.py:9: DeprecationWarning: find_elements_by_* commands are deprecated. Please use find_elements() instead\n",
      "  cur=driver.find_elements_by_css_selector(\"div._7UhW9.xLCgt.qyrsm.KV-D4.uL8Hv\")[i].get_attribute('innerHTML')\n",
      "/var/folders/cv/21r7d42s15gbdl09rp_ps93w0000gn/T/ipykernel_57608/1213147623.py:14: DeprecationWarning: find_elements_by_* commands are deprecated. Please use find_elements() instead\n",
      "  handle=driver.find_elements_by_class_name('-qQT3')[i]\n",
      "/var/folders/cv/21r7d42s15gbdl09rp_ps93w0000gn/T/ipykernel_57608/1213147623.py:17: DeprecationWarning: find_element_by_* commands are deprecated. Please use find_element() instead\n",
      "  name=driver.find_element_by_xpath('//div[@class=\"XBGH5\"]//h2').get_attribute('innerHTML')\n",
      "/var/folders/cv/21r7d42s15gbdl09rp_ps93w0000gn/T/ipykernel_57608/1213147623.py:18: DeprecationWarning: find_elements_by_* commands are deprecated. Please use find_elements() instead\n",
      "  num=driver.find_elements_by_class_name(\"g47SY \")[1].get_attribute('title')\n"
     ]
    },
    {
     "name": "stdout",
     "output_type": "stream",
     "text": [
      "foodtalkindia 307658\n",
      "dilsefoodie 958468\n",
      "foodsbible 4469765\n",
      "eattravelrock 329074\n",
      "foodgod 3695415\n",
      "_monafood 556112\n",
      "food 156819\n",
      "food.spy.ir 1650284\n",
      "north_foody 286512\n",
      "foodporn 983280\n"
     ]
    }
   ],
   "source": [
    "i=0\n",
    "x=10\n",
    "followers={}\n",
    "while i<x:\n",
    "    search_bar=driver.find_element_by_class_name('XTCLo')\n",
    "    search_bar.clear()\n",
    "    search_bar.send_keys('food')\n",
    "    appeared=wait.until(EC.presence_of_element_located((By.CLASS_NAME,'-qQT3')))\n",
    "    cur=driver.find_elements_by_css_selector(\"div._7UhW9.xLCgt.qyrsm.KV-D4.uL8Hv\")[i].get_attribute('innerHTML')\n",
    "    if cur[0]=='#':\n",
    "        x+=1\n",
    "        i+=1\n",
    "        continue\n",
    "    handle=driver.find_elements_by_class_name('-qQT3')[i]\n",
    "    handle.click()\n",
    "    appeared=wait.until(EC.presence_of_element_located((By.PARTIAL_LINK_TEXT,'followers')))\n",
    "    name=driver.find_element_by_xpath('//div[@class=\"XBGH5\"]//h2').get_attribute('innerHTML')\n",
    "    num=driver.find_elements_by_class_name(\"g47SY \")[1].get_attribute('title')\n",
    "    num=int(num.replace(',',''))\n",
    "    print(name,num)\n",
    "    followers[name]=num\n",
    "    i+=1"
   ]
  },
  {
   "cell_type": "markdown",
   "id": "4672a22b",
   "metadata": {},
   "source": [
    "### getting top 5"
   ]
  },
  {
   "cell_type": "code",
   "execution_count": 85,
   "id": "8bc15856",
   "metadata": {},
   "outputs": [
    {
     "name": "stdout",
     "output_type": "stream",
     "text": [
      "Rank Handle Followers\n",
      "1 foodsbible 4469765\n",
      "2 foodgod 3695415\n",
      "3 food.spy.ir 1650284\n",
      "4 foodporn 983280\n",
      "5 dilsefoodie 958468\n"
     ]
    }
   ],
   "source": [
    "followers={k: v for k, v in sorted(followers.items(), key=lambda item: item[1])}\n",
    "from collections import OrderedDict\n",
    "res = OrderedDict(reversed(list(followers.items())))\n",
    "from collections import OrderedDict\n",
    "res = OrderedDict(reversed(list(followers.items())))\n",
    "top5={}\n",
    "j=5\n",
    "for i in res:\n",
    "    if j==0:\n",
    "        break\n",
    "    j-=1\n",
    "    top5[i]=res[i]\n",
    "num=0\n",
    "print('Rank','Handle','Followers')\n",
    "for i in top5:\n",
    "    num+=1\n",
    "    print(num,i,top5[i])"
   ]
  },
  {
   "cell_type": "markdown",
   "id": "de64a561",
   "metadata": {},
   "source": [
    "### (2) Now Find the number of posts these handles have done in the previous 3 days."
   ]
  },
  {
   "cell_type": "markdown",
   "id": "b782776a",
   "metadata": {},
   "source": [
    "### Function to check that current post is not older than 3 days"
   ]
  },
  {
   "cell_type": "code",
   "execution_count": 140,
   "id": "12e256cf",
   "metadata": {},
   "outputs": [],
   "source": [
    "def is_okay(s):\n",
    "    arr=s.split()\n",
    "    if arr[1]=='d':\n",
    "        if int(arr[0])<=3:\n",
    "            return True\n",
    "        else:\n",
    "            return False\n",
    "    elif arr[1]=='h' or arr[1]=='s' or arr[1]=='m':\n",
    "        return True\n",
    "    else:\n",
    "        return False"
   ]
  },
  {
   "cell_type": "markdown",
   "id": "cb810b81",
   "metadata": {},
   "source": [
    "### Get count of posts made within last 3 days for currently opened handle"
   ]
  },
  {
   "cell_type": "code",
   "execution_count": 141,
   "id": "756bc3bb",
   "metadata": {},
   "outputs": [],
   "source": [
    "def num_posts():\n",
    "    count=0\n",
    "    for post in driver.find_elements_by_class_name('_9AhH0'):\n",
    "        post.click()\n",
    "        lapl=wait.until(EC.presence_of_element_located((By.CLASS_NAME,'fr66n')))\n",
    "        s=driver.find_element_by_xpath('//time').get_attribute('innerHTML')\n",
    "        if is_okay(s):\n",
    "            count+=1\n",
    "            driver.find_element_by_class_name('NOTWr').click()\n",
    "        else:\n",
    "            driver.find_element_by_class_name('NOTWr').click()\n",
    "            break\n",
    "    return count"
   ]
  },
  {
   "cell_type": "markdown",
   "id": "65f4dc45",
   "metadata": {},
   "source": [
    "### Get count of posts made by top 5 posts within last 3 days in a dictionary count_posts"
   ]
  },
  {
   "cell_type": "code",
   "execution_count": 142,
   "id": "685c0256",
   "metadata": {},
   "outputs": [
    {
     "name": "stderr",
     "output_type": "stream",
     "text": [
      "/var/folders/cv/21r7d42s15gbdl09rp_ps93w0000gn/T/ipykernel_57608/1989177576.py:4: DeprecationWarning: find_element_by_* commands are deprecated. Please use find_element() instead\n",
      "  search_bar=driver.find_element_by_class_name('XTCLo')\n",
      "/var/folders/cv/21r7d42s15gbdl09rp_ps93w0000gn/T/ipykernel_57608/1989177576.py:8: DeprecationWarning: find_element_by_* commands are deprecated. Please use find_element() instead\n",
      "  handle=driver.find_element_by_class_name('-qQT3')\n",
      "/var/folders/cv/21r7d42s15gbdl09rp_ps93w0000gn/T/ipykernel_57608/1357214355.py:3: DeprecationWarning: find_elements_by_* commands are deprecated. Please use find_elements() instead\n",
      "  for post in driver.find_elements_by_class_name('_9AhH0'):\n",
      "/var/folders/cv/21r7d42s15gbdl09rp_ps93w0000gn/T/ipykernel_57608/1357214355.py:6: DeprecationWarning: find_element_by_* commands are deprecated. Please use find_element() instead\n",
      "  s=driver.find_element_by_xpath('//time').get_attribute('innerHTML')\n",
      "/var/folders/cv/21r7d42s15gbdl09rp_ps93w0000gn/T/ipykernel_57608/1357214355.py:9: DeprecationWarning: find_element_by_* commands are deprecated. Please use find_element() instead\n",
      "  driver.find_element_by_class_name('NOTWr').click()\n",
      "/var/folders/cv/21r7d42s15gbdl09rp_ps93w0000gn/T/ipykernel_57608/1357214355.py:11: DeprecationWarning: find_element_by_* commands are deprecated. Please use find_element() instead\n",
      "  driver.find_element_by_class_name('NOTWr').click()\n"
     ]
    }
   ],
   "source": [
    "i=0\n",
    "count_posts={}\n",
    "for acc in top5:\n",
    "    search_bar=driver.find_element_by_class_name('XTCLo')\n",
    "    search_bar.clear()\n",
    "    search_bar.send_keys(acc)\n",
    "    appeared=wait.until(EC.presence_of_element_located((By.CLASS_NAME,'-qQT3')))\n",
    "    handle=driver.find_element_by_class_name('-qQT3')\n",
    "    handle.click()\n",
    "    appeared=wait.until(EC.presence_of_element_located((By.CLASS_NAME,'_9AhH0')))\n",
    "    x=num_posts()\n",
    "    count_posts[acc]=x\n",
    "    i+=1"
   ]
  },
  {
   "cell_type": "code",
   "execution_count": 143,
   "id": "b3db13c8",
   "metadata": {},
   "outputs": [
    {
     "name": "stdout",
     "output_type": "stream",
     "text": [
      "foodsbible  :  8 days\n",
      "foodgod  :  1 days\n",
      "food.spy.ir  :  11 days\n",
      "foodporn  :  9 days\n",
      "dilsefoodie  :  4 days\n"
     ]
    }
   ],
   "source": [
    "for i in count_posts:\n",
    "    print(i,' : ',count_posts[i],'days')"
   ]
  },
  {
   "cell_type": "markdown",
   "id": "850bd35c",
   "metadata": {},
   "source": [
    "### (3) Graphs"
   ]
  },
  {
   "cell_type": "code",
   "execution_count": 169,
   "id": "d58c52f6",
   "metadata": {},
   "outputs": [],
   "source": [
    "import matplotlib.pyplot as plt\n",
    "import numpy as np\n",
    "import pandas as pd\n",
    "plt.rcParams['font.size'] = 12.0"
   ]
  },
  {
   "cell_type": "code",
   "execution_count": 170,
   "id": "89b56127",
   "metadata": {},
   "outputs": [
    {
     "data": {
      "image/png": "[encoded data removed]",
      "text/plain": [
       "<Figure size 432x288 with 1 Axes>"
      ]
     },
     "metadata": {
      "needs_background": "light"
     },
     "output_type": "display_data"
    }
   ],
   "source": [
    "x=list(count_posts.keys())\n",
    "y=list(count_posts.values())\n",
    "plt.xlabel(\"Instagram Handle\")\n",
    "plt.ylabel(\"Posts made within last 3 days\")\n",
    "plt.bar(x,y,color = \"green\")\n",
    "plt.show()"
   ]
  },
  {
   "cell_type": "code",
   "execution_count": 171,
   "id": "44a8bfd0",
   "metadata": {},
   "outputs": [
    {
     "data": {
      "image/png": "[encoded data removed]",
      "text/plain": [
       "<Figure size 432x288 with 1 Axes>"
      ]
     },
     "metadata": {},
     "output_type": "display_data"
    }
   ],
   "source": [
    "mylabels = x\n",
    "colors=[\"grey\",\"pink\",\"silver\",\"orange\",\"green\"]\n",
    "explode=[.1,.1,.1,.1,.1]\n",
    "plt.pie(y, labels = x,autopct=\"%.2f%%\",explode=explode,colors=colors)\n",
    "plt.show()"
   ]
  },
  {
   "cell_type": "markdown",
   "id": "60ad4134",
   "metadata": {},
   "source": [
    "## QUESTION 2: POPULAR HASHTAGS"
   ]
  },
  {
   "cell_type": "markdown",
   "id": "8ff23a7c",
   "metadata": {},
   "source": [
    "### Open the 5 handles you obtained in the last question, and scrape the content of the first 10 posts of each handle.\n",
    "### Prepare a list of all words used in all the scraped posts and calculate the frequency of each word."
   ]
  },
  {
   "cell_type": "code",
   "execution_count": 177,
   "id": "74602f9e",
   "metadata": {},
   "outputs": [],
   "source": [
    "def get_hashtag_for_single_post():\n",
    "    hashtags=[]\n",
    "    for hashtag in driver.find_elements_by_class_name('xil3i'):\n",
    "        hashtags.append(hashtag.get_attribute('innerHTML'))\n",
    "    return hashtags"
   ]
  },
  {
   "cell_type": "code",
   "execution_count": 182,
   "id": "9da29310",
   "metadata": {
    "scrolled": true
   },
   "outputs": [
    {
     "name": "stderr",
     "output_type": "stream",
     "text": [
      "/var/folders/cv/21r7d42s15gbdl09rp_ps93w0000gn/T/ipykernel_57608/23798391.py:3: DeprecationWarning: find_elements_by_* commands are deprecated. Please use find_elements() instead\n",
      "  for hashtag in driver.find_elements_by_class_name('xil3i'):\n"
     ]
    }
   ],
   "source": [
    "hashtags=get_hashtag_for_single_post()"
   ]
  },
  {
   "cell_type": "code",
   "execution_count": 194,
   "id": "7e940cf1",
   "metadata": {},
   "outputs": [],
   "source": [
    "def get_hashtags_for_n_posts(n):\n",
    "    i=0\n",
    "    all_tags=[]\n",
    "    for post in driver.find_elements_by_class_name('_9AhH0'):\n",
    "        if i>=n:\n",
    "            break\n",
    "        post.click()\n",
    "        lapl=wait.until(EC.presence_of_element_located((By.CLASS_NAME,'fr66n')))\n",
    "        hashtags=get_hashtag_for_single_post()\n",
    "        for hashtag in hashtags:\n",
    "            all_tags.append(hashtag)\n",
    "        driver.find_element_by_class_name('NOTWr').click()\n",
    "        i+=1\n",
    "    return all_tags"
   ]
  },
  {
   "cell_type": "code",
   "execution_count": 199,
   "id": "11a3fdc3",
   "metadata": {
    "scrolled": false
   },
   "outputs": [
    {
     "name": "stderr",
     "output_type": "stream",
     "text": [
      "/var/folders/cv/21r7d42s15gbdl09rp_ps93w0000gn/T/ipykernel_57608/2278635791.py:4: DeprecationWarning: find_elements_by_* commands are deprecated. Please use find_elements() instead\n",
      "  for post in driver.find_elements_by_class_name('_9AhH0'):\n",
      "/var/folders/cv/21r7d42s15gbdl09rp_ps93w0000gn/T/ipykernel_57608/23798391.py:3: DeprecationWarning: find_elements_by_* commands are deprecated. Please use find_elements() instead\n",
      "  for hashtag in driver.find_elements_by_class_name('xil3i'):\n",
      "/var/folders/cv/21r7d42s15gbdl09rp_ps93w0000gn/T/ipykernel_57608/2278635791.py:12: DeprecationWarning: find_element_by_* commands are deprecated. Please use find_element() instead\n",
      "  driver.find_element_by_class_name('NOTWr').click()\n"
     ]
    }
   ],
   "source": [
    "tags=get_hashtags_for_n_posts(3)"
   ]
  },
  {
   "cell_type": "code",
   "execution_count": 200,
   "id": "255f13d4",
   "metadata": {},
   "outputs": [
    {
     "data": {
      "text/plain": [
       "['#papasrellenas', '#canarias', '#shikvaar']"
      ]
     },
     "execution_count": 200,
     "metadata": {},
     "output_type": "execute_result"
    }
   ],
   "source": [
    "tags"
   ]
  },
  {
   "cell_type": "code",
   "execution_count": 191,
   "id": "573ad6d2",
   "metadata": {},
   "outputs": [
    {
     "data": {
      "text/plain": [
       "['foodsbible', 'foodgod', 'food.spy.ir', 'foodporn', 'dilsefoodie']"
      ]
     },
     "execution_count": 191,
     "metadata": {},
     "output_type": "execute_result"
    }
   ],
   "source": [
    "x"
   ]
  },
  {
   "cell_type": "code",
   "execution_count": 204,
   "id": "99b30265",
   "metadata": {},
   "outputs": [],
   "source": [
    "def get_hashtags_for_given_handles(handles):\n",
    "    all_tags=[]\n",
    "    for acc in handles:\n",
    "        search_bar=driver.find_element_by_class_name('XTCLo')\n",
    "        search_bar.clear()\n",
    "        search_bar.send_keys(acc)\n",
    "        appeared=wait.until(EC.presence_of_element_located((By.CLASS_NAME,'-qQT3')))\n",
    "        handle=driver.find_element_by_class_name('-qQT3')\n",
    "        handle.click()\n",
    "        appeared=wait.until(EC.presence_of_element_located((By.CLASS_NAME,'_9AhH0')))\n",
    "        tags=get_hashtags_for_n_posts(10)\n",
    "        for tag in tags:\n",
    "            all_tags.append(tag)\n",
    "        time.sleep(1)\n",
    "    return all_tags"
   ]
  },
  {
   "cell_type": "code",
   "execution_count": 205,
   "id": "8154be1a",
   "metadata": {},
   "outputs": [
    {
     "name": "stderr",
     "output_type": "stream",
     "text": [
      "/var/folders/cv/21r7d42s15gbdl09rp_ps93w0000gn/T/ipykernel_57608/1197127499.py:4: DeprecationWarning: find_element_by_* commands are deprecated. Please use find_element() instead\n",
      "  search_bar=driver.find_element_by_class_name('XTCLo')\n",
      "/var/folders/cv/21r7d42s15gbdl09rp_ps93w0000gn/T/ipykernel_57608/1197127499.py:8: DeprecationWarning: find_element_by_* commands are deprecated. Please use find_element() instead\n",
      "  handle=driver.find_element_by_class_name('-qQT3')\n",
      "/var/folders/cv/21r7d42s15gbdl09rp_ps93w0000gn/T/ipykernel_57608/2278635791.py:4: DeprecationWarning: find_elements_by_* commands are deprecated. Please use find_elements() instead\n",
      "  for post in driver.find_elements_by_class_name('_9AhH0'):\n",
      "/var/folders/cv/21r7d42s15gbdl09rp_ps93w0000gn/T/ipykernel_57608/23798391.py:3: DeprecationWarning: find_elements_by_* commands are deprecated. Please use find_elements() instead\n",
      "  for hashtag in driver.find_elements_by_class_name('xil3i'):\n",
      "/var/folders/cv/21r7d42s15gbdl09rp_ps93w0000gn/T/ipykernel_57608/2278635791.py:12: DeprecationWarning: find_element_by_* commands are deprecated. Please use find_element() instead\n",
      "  driver.find_element_by_class_name('NOTWr').click()\n"
     ]
    }
   ],
   "source": [
    "tags=get_hashtags_for_given_handles(x)"
   ]
  },
  {
   "cell_type": "code",
   "execution_count": 206,
   "id": "3e6ffabe",
   "metadata": {},
   "outputs": [
    {
     "data": {
      "text/plain": [
       "['#papasrellenas',\n",
       " '#canarias',\n",
       " '#shikvaar',\n",
       " '#ostin',\n",
       " '#Finally',\n",
       " '#cheddaralltheway',\n",
       " '#fjb',\n",
       " '#k',\n",
       " '#readytoeat',\n",
       " '#papasrellenas',\n",
       " '#canarias',\n",
       " '#shikvaar',\n",
       " '#ostin',\n",
       " '#Finally',\n",
       " '#cheddaralltheway',\n",
       " '#fjb',\n",
       " '#k',\n",
       " '#readytoeat',\n",
       " '#papasrellenas',\n",
       " '#canarias',\n",
       " '#shikvaar',\n",
       " '#ostin',\n",
       " '#Finally',\n",
       " '#cheddaralltheway',\n",
       " '#fjb',\n",
       " '#k',\n",
       " '#readytoeat',\n",
       " '#papasrellenas',\n",
       " '#canarias',\n",
       " '#shikvaar',\n",
       " '#ostin',\n",
       " '#Finally',\n",
       " '#cheddaralltheway',\n",
       " '#fjb',\n",
       " '#k',\n",
       " '#readytoeat',\n",
       " '#papasrellenas',\n",
       " '#canarias',\n",
       " '#shikvaar',\n",
       " '#ostin',\n",
       " '#Finally',\n",
       " '#cheddaralltheway',\n",
       " '#fjb',\n",
       " '#k',\n",
       " '#readytoeat']"
      ]
     },
     "execution_count": 206,
     "metadata": {},
     "output_type": "execute_result"
    }
   ],
   "source": [
    "tags"
   ]
  },
  {
   "cell_type": "code",
   "execution_count": 208,
   "id": "97a515e9",
   "metadata": {},
   "outputs": [],
   "source": [
    "freq={}\n",
    "for tag in tags:\n",
    "    if tag in freq:\n",
    "        freq[tag]+=1\n",
    "    else:\n",
    "        freq[tag]=1"
   ]
  },
  {
   "cell_type": "code",
   "execution_count": 209,
   "id": "e0a95882",
   "metadata": {},
   "outputs": [
    {
     "data": {
      "text/plain": [
       "{'#papasrellenas': 5,\n",
       " '#canarias': 5,\n",
       " '#shikvaar': 5,\n",
       " '#ostin': 5,\n",
       " '#Finally': 5,\n",
       " '#cheddaralltheway': 5,\n",
       " '#fjb': 5,\n",
       " '#k': 5,\n",
       " '#readytoeat': 5}"
      ]
     },
     "execution_count": 209,
     "metadata": {},
     "output_type": "execute_result"
    }
   ],
   "source": [
    "freq"
   ]
  },
  {
   "cell_type": "code",
   "execution_count": 211,
   "id": "a7b741be",
   "metadata": {},
   "outputs": [],
   "source": [
    "data={'word':list(freq.keys()),'frequency':list(freq.values())}"
   ]
  },
  {
   "cell_type": "code",
   "execution_count": 212,
   "id": "ef9b6529",
   "metadata": {},
   "outputs": [],
   "source": [
    "df = pd.DataFrame(data)"
   ]
  },
  {
   "cell_type": "code",
   "execution_count": 213,
   "id": "f6b5c808",
   "metadata": {},
   "outputs": [
    {
     "data": {
      "text/html": [
       "<div>\n",
       "<style scoped>\n",
       "    .dataframe tbody tr th:only-of-type {\n",
       "        vertical-align: middle;\n",
       "    }\n",
       "\n",
       "    .dataframe tbody tr th {\n",
       "        vertical-align: top;\n",
       "    }\n",
       "\n",
       "    .dataframe thead th {\n",
       "        text-align: right;\n",
       "    }\n",
       "</style>\n",
       "<table border=\"1\" class=\"dataframe\">\n",
       "  <thead>\n",
       "    <tr style=\"text-align: right;\">\n",
       "      <th></th>\n",
       "      <th>word</th>\n",
       "      <th>frequency</th>\n",
       "    </tr>\n",
       "  </thead>\n",
       "  <tbody>\n",
       "    <tr>\n",
       "      <th>0</th>\n",
       "      <td>#papasrellenas</td>\n",
       "      <td>5</td>\n",
       "    </tr>\n",
       "    <tr>\n",
       "      <th>1</th>\n",
       "      <td>#canarias</td>\n",
       "      <td>5</td>\n",
       "    </tr>\n",
       "    <tr>\n",
       "      <th>2</th>\n",
       "      <td>#shikvaar</td>\n",
       "      <td>5</td>\n",
       "    </tr>\n",
       "    <tr>\n",
       "      <th>3</th>\n",
       "      <td>#ostin</td>\n",
       "      <td>5</td>\n",
       "    </tr>\n",
       "    <tr>\n",
       "      <th>4</th>\n",
       "      <td>#Finally</td>\n",
       "      <td>5</td>\n",
       "    </tr>\n",
       "    <tr>\n",
       "      <th>5</th>\n",
       "      <td>#cheddaralltheway</td>\n",
       "      <td>5</td>\n",
       "    </tr>\n",
       "    <tr>\n",
       "      <th>6</th>\n",
       "      <td>#fjb</td>\n",
       "      <td>5</td>\n",
       "    </tr>\n",
       "    <tr>\n",
       "      <th>7</th>\n",
       "      <td>#k</td>\n",
       "      <td>5</td>\n",
       "    </tr>\n",
       "    <tr>\n",
       "      <th>8</th>\n",
       "      <td>#readytoeat</td>\n",
       "      <td>5</td>\n",
       "    </tr>\n",
       "  </tbody>\n",
       "</table>\n",
       "</div>"
      ],
      "text/plain": [
       "                word  frequency\n",
       "0     #papasrellenas          5\n",
       "1          #canarias          5\n",
       "2          #shikvaar          5\n",
       "3             #ostin          5\n",
       "4           #Finally          5\n",
       "5  #cheddaralltheway          5\n",
       "6               #fjb          5\n",
       "7                 #k          5\n",
       "8        #readytoeat          5"
      ]
     },
     "execution_count": 213,
     "metadata": {},
     "output_type": "execute_result"
    }
   ],
   "source": [
    "df"
   ]
  },
  {
   "cell_type": "code",
   "execution_count": 214,
   "id": "15b9d967",
   "metadata": {},
   "outputs": [],
   "source": [
    "df.to_csv('food_hashtags.csv')"
   ]
  },
  {
   "cell_type": "code",
   "execution_count": 218,
   "id": "8cb62b75",
   "metadata": {},
   "outputs": [],
   "source": [
    "df.to_excel('food_hashtags.xlsx')"
   ]
  },
  {
   "cell_type": "code",
   "execution_count": 223,
   "id": "bec54e1a",
   "metadata": {},
   "outputs": [
    {
     "data": {
      "image/png": "[encoded data removed]",
      "text/plain": [
       "<Figure size 432x288 with 1 Axes>"
      ]
     },
     "metadata": {},
     "output_type": "display_data"
    }
   ],
   "source": [
    "labels=list(freq.keys())\n",
    "y=list(freq.values())\n",
    "plt.pie(y, labels = labels,autopct=\"%.2f%%\")\n",
    "plt.show()"
   ]
  },
  {
   "cell_type": "code",
   "execution_count": 224,
   "id": "d356dc2b",
   "metadata": {},
   "outputs": [],
   "source": [
    "driver.quit()"
   ]
  }
 ],
 "metadata": {
  "kernelspec": {
   "display_name": "Python 3 (ipykernel)",
   "language": "python",
   "name": "python3"
  },
  "language_info": {
   "codemirror_mode": {
    "name": "ipython",
    "version": 3
   },
   "file_extension": ".py",
   "mimetype": "text/x-python",
   "name": "python",
   "nbconvert_exporter": "python",
   "pygments_lexer": "ipython3",
   "version": "3.8.8"
  }
 },
 "nbformat": 4,
 "nbformat_minor": 5
}
